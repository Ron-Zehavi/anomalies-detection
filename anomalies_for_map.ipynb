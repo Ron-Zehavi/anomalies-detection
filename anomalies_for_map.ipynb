{
 "cells": [
  {
   "cell_type": "code",
   "execution_count": 1,
   "metadata": {},
   "outputs": [],
   "source": [
    "import pandas as pd\n",
    "import numpy as np\n",
    "from tqdm import tqdm\n",
    "import eif\n",
    "from kando import kando_client\n",
    "import pickle\n",
    "%run utils.ipynb\n",
    "# import libraries\n",
    "from sklearn.preprocessing import MinMaxScaler\n",
    "from sklearn.ensemble import IsolationForest\n",
    "\n",
    "%matplotlib notebook\n",
    "import matplotlib.pyplot as plt\n",
    "from mpl_toolkits.mplot3d import axes3d   "
   ]
  },
  {
   "cell_type": "code",
   "execution_count": 36,
   "metadata": {},
   "outputs": [],
   "source": [
    "WINDOW = 24\n",
    "ponit_id = 911"
   ]
  },
  {
   "cell_type": "code",
   "execution_count": 3,
   "metadata": {},
   "outputs": [],
   "source": [
    "def load_point_mps(point_id):\n",
    "    infile = open(f\"{point_id}_mps.pkl\",'rb')\n",
    "    mps = pickle.load(infile)\n",
    "    infile.close()\n",
    "    return(mps)"
   ]
  },
  {
   "cell_type": "code",
   "execution_count": 4,
   "metadata": {},
   "outputs": [],
   "source": [
    "mps = load_point_mps(911)"
   ]
  },
  {
   "cell_type": "code",
   "execution_count": 5,
   "metadata": {},
   "outputs": [],
   "source": [
    "def load_point_data(point_id):\n",
    "    infile = open(f\"{point_id}_data.pkl\",'rb')\n",
    "    df = pickle.load(infile)\n",
    "    infile.close()\n",
    "    return(df)"
   ]
  },
  {
   "cell_type": "code",
   "execution_count": 6,
   "metadata": {},
   "outputs": [],
   "source": [
    "df = load_point_data(911)"
   ]
  },
  {
   "cell_type": "code",
   "execution_count": 8,
   "metadata": {},
   "outputs": [
    {
     "data": {
      "text/plain": [
       "Index(['EC', 'PH', 'ORP', 'TEMPERATURE'], dtype='object')"
      ]
     },
     "execution_count": 8,
     "metadata": {},
     "output_type": "execute_result"
    }
   ],
   "source": [
    "df.columns[:-1]"
   ]
  },
  {
   "cell_type": "code",
   "execution_count": 20,
   "metadata": {},
   "outputs": [],
   "source": [
    "def add_matrix_profile_anomalies_labels(df, mps):\n",
    "    for col_ in ['EC', 'PH', 'ORP', 'TEMPERATURE']:\n",
    "        df[f'{col_}_legend'] = 0\n",
    "        matrix_profile = mps[f'mp_{col_}'][:, 0]\n",
    "        max_index = np.argwhere(\n",
    "            matrix_profile == matrix_profile.max()).flatten()[0]\n",
    "        df[f'{col_}_legend'].iloc[max_index:max_index + WINDOW] = 1\n",
    "    df['ALL_DIMS'] = 0\n",
    "    matrix_profile = mps[f'All_dimensions'][0][:, 0]\n",
    "    max_index = np.argwhere(\n",
    "        matrix_profile == matrix_profile.max()).flatten()[0]\n",
    "    df['ALL_DIMS'].iloc[max_index:max_index + WINDOW] = 1\n",
    "    return (df)"
   ]
  },
  {
   "cell_type": "code",
   "execution_count": 21,
   "metadata": {
    "scrolled": true
   },
   "outputs": [
    {
     "name": "stderr",
     "output_type": "stream",
     "text": [
      "/home/ron/anaconda3/lib/python3.6/site-packages/pandas/core/indexing.py:670: SettingWithCopyWarning: \n",
      "A value is trying to be set on a copy of a slice from a DataFrame\n",
      "\n",
      "See the caveats in the documentation: https://pandas.pydata.org/pandas-docs/stable/user_guide/indexing.html#returning-a-view-versus-a-copy\n",
      "  iloc._setitem_with_indexer(indexer, value)\n"
     ]
    }
   ],
   "source": [
    "df = add_matrix_profile_anomalies_labels(df, mps)"
   ]
  },
  {
   "cell_type": "code",
   "execution_count": 31,
   "metadata": {},
   "outputs": [],
   "source": [
    "def add_isolation_forest_anomalies_labels(df):\n",
    "\n",
    "    # normalize the data\n",
    "    x = df[['EC', 'PH', 'ORP', 'TEMPERATURE']].values  #returns a numpy array\n",
    "    min_max_scaler = MinMaxScaler()\n",
    "    x_scaled = min_max_scaler.fit_transform(x)\n",
    "\n",
    "    clf = IsolationForest(random_state=0)\n",
    "    clf.fit(x_scaled)\n",
    "\n",
    "    isolation_forest_anomaly_score = clf.decision_function(x_scaled)\n",
    "    min_multivariant_index = np.argwhere(\n",
    "        isolation_forest_anomaly_score ==\n",
    "        isolation_forest_anomaly_score.min())[0][0]\n",
    "    half = int(WINDOW / 2)\n",
    "    df['ALL_DIMS'].iloc[min_multivariant_index - half:min_multivariant_index +\n",
    "                        half] += 2\n",
    "\n",
    "    indx = np.arange(df.shape[0])\n",
    "    for col in ['EC', 'PH', 'ORP', 'TEMPERATURE']:\n",
    "        values = df[col].values\n",
    "        tempdf = pd.DataFrame({\n",
    "            'time': indx,\n",
    "            'ph': values,\n",
    "        })\n",
    "        clf.fit(tempdf)\n",
    "        isolation_forest_anomaly_score = clf.decision_function(tempdf)\n",
    "        temp_min_index = np.argwhere(\n",
    "            isolation_forest_anomaly_score ==\n",
    "            isolation_forest_anomaly_score.min())[0][0]\n",
    "        df[f'{col}_legend'].iloc[temp_min_index - half:temp_min_index +\n",
    "                                 half] += 2\n",
    "    return (df)"
   ]
  },
  {
   "cell_type": "code",
   "execution_count": 32,
   "metadata": {},
   "outputs": [
    {
     "name": "stderr",
     "output_type": "stream",
     "text": [
      "/home/ron/anaconda3/lib/python3.6/site-packages/pandas/core/indexing.py:670: SettingWithCopyWarning: \n",
      "A value is trying to be set on a copy of a slice from a DataFrame\n",
      "\n",
      "See the caveats in the documentation: https://pandas.pydata.org/pandas-docs/stable/user_guide/indexing.html#returning-a-view-versus-a-copy\n",
      "  iloc._setitem_with_indexer(indexer, value)\n",
      "/home/ron/anaconda3/lib/python3.6/site-packages/pandas/core/indexing.py:670: SettingWithCopyWarning: \n",
      "A value is trying to be set on a copy of a slice from a DataFrame\n",
      "\n",
      "See the caveats in the documentation: https://pandas.pydata.org/pandas-docs/stable/user_guide/indexing.html#returning-a-view-versus-a-copy\n",
      "  iloc._setitem_with_indexer(indexer, value)\n",
      "/home/ron/anaconda3/lib/python3.6/site-packages/pandas/core/indexing.py:670: SettingWithCopyWarning: \n",
      "A value is trying to be set on a copy of a slice from a DataFrame\n",
      "\n",
      "See the caveats in the documentation: https://pandas.pydata.org/pandas-docs/stable/user_guide/indexing.html#returning-a-view-versus-a-copy\n",
      "  iloc._setitem_with_indexer(indexer, value)\n",
      "/home/ron/anaconda3/lib/python3.6/site-packages/pandas/core/indexing.py:670: SettingWithCopyWarning: \n",
      "A value is trying to be set on a copy of a slice from a DataFrame\n",
      "\n",
      "See the caveats in the documentation: https://pandas.pydata.org/pandas-docs/stable/user_guide/indexing.html#returning-a-view-versus-a-copy\n",
      "  iloc._setitem_with_indexer(indexer, value)\n",
      "/home/ron/anaconda3/lib/python3.6/site-packages/pandas/core/indexing.py:670: SettingWithCopyWarning: \n",
      "A value is trying to be set on a copy of a slice from a DataFrame\n",
      "\n",
      "See the caveats in the documentation: https://pandas.pydata.org/pandas-docs/stable/user_guide/indexing.html#returning-a-view-versus-a-copy\n",
      "  iloc._setitem_with_indexer(indexer, value)\n"
     ]
    }
   ],
   "source": [
    "df = add_isolation_forest_anomalies_labels(df)"
   ]
  },
  {
   "cell_type": "code",
   "execution_count": 38,
   "metadata": {},
   "outputs": [],
   "source": [
    "def save_df_for_anomaly_map(df, point_id):\n",
    "    b_file = open(f\"{point_id}_df_for_anomaly_map.pkl\", \"wb\")\n",
    "    pickle.dump(df, b_file)\n",
    "    b_file.close()"
   ]
  },
  {
   "cell_type": "code",
   "execution_count": 40,
   "metadata": {},
   "outputs": [],
   "source": [
    "save_df_for_anomaly_map(df, 911)"
   ]
  },
  {
   "cell_type": "code",
   "execution_count": null,
   "metadata": {},
   "outputs": [],
   "source": []
  },
  {
   "cell_type": "code",
   "execution_count": null,
   "metadata": {},
   "outputs": [],
   "source": []
  },
  {
   "cell_type": "code",
   "execution_count": null,
   "metadata": {},
   "outputs": [],
   "source": []
  },
  {
   "cell_type": "code",
   "execution_count": null,
   "metadata": {},
   "outputs": [],
   "source": []
  },
  {
   "cell_type": "code",
   "execution_count": null,
   "metadata": {},
   "outputs": [],
   "source": []
  },
  {
   "cell_type": "code",
   "execution_count": null,
   "metadata": {},
   "outputs": [],
   "source": []
  },
  {
   "cell_type": "code",
   "execution_count": null,
   "metadata": {},
   "outputs": [],
   "source": []
  },
  {
   "cell_type": "code",
   "execution_count": null,
   "metadata": {},
   "outputs": [],
   "source": []
  },
  {
   "cell_type": "code",
   "execution_count": null,
   "metadata": {},
   "outputs": [],
   "source": []
  },
  {
   "cell_type": "code",
   "execution_count": null,
   "metadata": {},
   "outputs": [],
   "source": []
  },
  {
   "cell_type": "code",
   "execution_count": null,
   "metadata": {},
   "outputs": [],
   "source": []
  },
  {
   "cell_type": "code",
   "execution_count": null,
   "metadata": {},
   "outputs": [],
   "source": []
  }
 ],
 "metadata": {
  "kernelspec": {
   "display_name": "Python 3",
   "language": "python",
   "name": "python3"
  },
  "language_info": {
   "codemirror_mode": {
    "name": "ipython",
    "version": 3
   },
   "file_extension": ".py",
   "mimetype": "text/x-python",
   "name": "python",
   "nbconvert_exporter": "python",
   "pygments_lexer": "ipython3",
   "version": "3.6.10"
  },
  "toc": {
   "base_numbering": 1,
   "nav_menu": {},
   "number_sections": true,
   "sideBar": true,
   "skip_h1_title": false,
   "title_cell": "Table of Contents",
   "title_sidebar": "Contents",
   "toc_cell": false,
   "toc_position": {},
   "toc_section_display": true,
   "toc_window_display": false
  }
 },
 "nbformat": 4,
 "nbformat_minor": 4
}
