{
 "cells": [
  {
   "cell_type": "code",
   "execution_count": 1,
   "metadata": {},
   "outputs": [],
   "source": [
    "from matplotlib import pyplot as plt\n",
    "import json\n",
    "import pandas as pd\n",
    "import numpy as np\n",
    "import seaborn as sns\n",
    "from statsmodels.tsa.seasonal import seasonal_decompose\n",
    "import stumpy\n",
    "import matplotlib.dates as dates\n",
    "from matplotlib.patches import Rectangle\n",
    "import datetime as dt\n",
    "from collections import Counter\n",
    "import urllib\n",
    "import ssl\n",
    "from tqdm.notebook import tqdm\n",
    "import io\n",
    "import os\n",
    "from kando import kando_client\n",
    "%run utils.ipynb"
   ]
  },
  {
   "cell_type": "code",
   "execution_count": 2,
   "metadata": {},
   "outputs": [],
   "source": [
    "df = pd.read_pickle(\"./gichon_collector.pkl\")"
   ]
  },
  {
   "cell_type": "code",
   "execution_count": 3,
   "metadata": {},
   "outputs": [
    {
     "data": {
      "text/html": [
       "<div>\n",
       "<style scoped>\n",
       "    .dataframe tbody tr th:only-of-type {\n",
       "        vertical-align: middle;\n",
       "    }\n",
       "\n",
       "    .dataframe tbody tr th {\n",
       "        vertical-align: top;\n",
       "    }\n",
       "\n",
       "    .dataframe thead th {\n",
       "        text-align: right;\n",
       "    }\n",
       "</style>\n",
       "<table border=\"1\" class=\"dataframe\">\n",
       "  <thead>\n",
       "    <tr style=\"text-align: right;\">\n",
       "      <th></th>\n",
       "      <th>PH</th>\n",
       "      <th>EC</th>\n",
       "      <th>ORP</th>\n",
       "      <th>TEMPERATURE</th>\n",
       "      <th>date</th>\n",
       "      <th>weekday</th>\n",
       "      <th>month</th>\n",
       "      <th>hour</th>\n",
       "      <th>point_id</th>\n",
       "      <th>channel_shape</th>\n",
       "      <th>diameter</th>\n",
       "      <th>water_authority</th>\n",
       "      <th>sector</th>\n",
       "    </tr>\n",
       "  </thead>\n",
       "  <tbody>\n",
       "    <tr>\n",
       "      <th>0</th>\n",
       "      <td>6.900</td>\n",
       "      <td>1304.0</td>\n",
       "      <td>-467.0</td>\n",
       "      <td>28.4</td>\n",
       "      <td>2018-09-05 03:05:00</td>\n",
       "      <td>2</td>\n",
       "      <td>9</td>\n",
       "      <td>3</td>\n",
       "      <td>2045</td>\n",
       "      <td>circular_pipe</td>\n",
       "      <td>0.125</td>\n",
       "      <td>24</td>\n",
       "      <td>48</td>\n",
       "    </tr>\n",
       "    <tr>\n",
       "      <th>1</th>\n",
       "      <td>6.900</td>\n",
       "      <td>1312.0</td>\n",
       "      <td>-466.0</td>\n",
       "      <td>28.4</td>\n",
       "      <td>2018-09-05 03:10:00</td>\n",
       "      <td>2</td>\n",
       "      <td>9</td>\n",
       "      <td>3</td>\n",
       "      <td>2045</td>\n",
       "      <td>circular_pipe</td>\n",
       "      <td>0.125</td>\n",
       "      <td>24</td>\n",
       "      <td>48</td>\n",
       "    </tr>\n",
       "    <tr>\n",
       "      <th>2</th>\n",
       "      <td>6.800</td>\n",
       "      <td>1328.0</td>\n",
       "      <td>-466.0</td>\n",
       "      <td>28.3</td>\n",
       "      <td>2018-09-05 03:15:00</td>\n",
       "      <td>2</td>\n",
       "      <td>9</td>\n",
       "      <td>3</td>\n",
       "      <td>2045</td>\n",
       "      <td>circular_pipe</td>\n",
       "      <td>0.125</td>\n",
       "      <td>24</td>\n",
       "      <td>48</td>\n",
       "    </tr>\n",
       "    <tr>\n",
       "      <th>3</th>\n",
       "      <td>6.800</td>\n",
       "      <td>1336.0</td>\n",
       "      <td>-465.0</td>\n",
       "      <td>28.3</td>\n",
       "      <td>2018-09-05 03:20:00</td>\n",
       "      <td>2</td>\n",
       "      <td>9</td>\n",
       "      <td>3</td>\n",
       "      <td>2045</td>\n",
       "      <td>circular_pipe</td>\n",
       "      <td>0.125</td>\n",
       "      <td>24</td>\n",
       "      <td>48</td>\n",
       "    </tr>\n",
       "    <tr>\n",
       "      <th>4</th>\n",
       "      <td>6.800</td>\n",
       "      <td>1344.0</td>\n",
       "      <td>-465.0</td>\n",
       "      <td>28.3</td>\n",
       "      <td>2018-09-05 03:25:00</td>\n",
       "      <td>2</td>\n",
       "      <td>9</td>\n",
       "      <td>3</td>\n",
       "      <td>2045</td>\n",
       "      <td>circular_pipe</td>\n",
       "      <td>0.125</td>\n",
       "      <td>24</td>\n",
       "      <td>48</td>\n",
       "    </tr>\n",
       "    <tr>\n",
       "      <th>...</th>\n",
       "      <td>...</td>\n",
       "      <td>...</td>\n",
       "      <td>...</td>\n",
       "      <td>...</td>\n",
       "      <td>...</td>\n",
       "      <td>...</td>\n",
       "      <td>...</td>\n",
       "      <td>...</td>\n",
       "      <td>...</td>\n",
       "      <td>...</td>\n",
       "      <td>...</td>\n",
       "      <td>...</td>\n",
       "      <td>...</td>\n",
       "    </tr>\n",
       "    <tr>\n",
       "      <th>1003582</th>\n",
       "      <td>1.544</td>\n",
       "      <td>96.0</td>\n",
       "      <td>359.0</td>\n",
       "      <td>23.9</td>\n",
       "      <td>2020-07-05 02:10:00</td>\n",
       "      <td>6</td>\n",
       "      <td>7</td>\n",
       "      <td>2</td>\n",
       "      <td>1332</td>\n",
       "      <td>circular_pipe</td>\n",
       "      <td>0.250</td>\n",
       "      <td>24</td>\n",
       "      <td>48</td>\n",
       "    </tr>\n",
       "    <tr>\n",
       "      <th>1003583</th>\n",
       "      <td>1.542</td>\n",
       "      <td>96.0</td>\n",
       "      <td>359.0</td>\n",
       "      <td>23.9</td>\n",
       "      <td>2020-07-05 02:20:00</td>\n",
       "      <td>6</td>\n",
       "      <td>7</td>\n",
       "      <td>2</td>\n",
       "      <td>1332</td>\n",
       "      <td>circular_pipe</td>\n",
       "      <td>0.250</td>\n",
       "      <td>24</td>\n",
       "      <td>48</td>\n",
       "    </tr>\n",
       "    <tr>\n",
       "      <th>1003584</th>\n",
       "      <td>1.541</td>\n",
       "      <td>96.0</td>\n",
       "      <td>359.0</td>\n",
       "      <td>24.0</td>\n",
       "      <td>2020-07-05 02:30:00</td>\n",
       "      <td>6</td>\n",
       "      <td>7</td>\n",
       "      <td>2</td>\n",
       "      <td>1332</td>\n",
       "      <td>circular_pipe</td>\n",
       "      <td>0.250</td>\n",
       "      <td>24</td>\n",
       "      <td>48</td>\n",
       "    </tr>\n",
       "    <tr>\n",
       "      <th>1003585</th>\n",
       "      <td>1.546</td>\n",
       "      <td>96.0</td>\n",
       "      <td>359.0</td>\n",
       "      <td>24.0</td>\n",
       "      <td>2020-07-05 02:40:00</td>\n",
       "      <td>6</td>\n",
       "      <td>7</td>\n",
       "      <td>2</td>\n",
       "      <td>1332</td>\n",
       "      <td>circular_pipe</td>\n",
       "      <td>0.250</td>\n",
       "      <td>24</td>\n",
       "      <td>48</td>\n",
       "    </tr>\n",
       "    <tr>\n",
       "      <th>1003586</th>\n",
       "      <td>1.547</td>\n",
       "      <td>96.0</td>\n",
       "      <td>360.0</td>\n",
       "      <td>23.9</td>\n",
       "      <td>2020-07-05 02:50:00</td>\n",
       "      <td>6</td>\n",
       "      <td>7</td>\n",
       "      <td>2</td>\n",
       "      <td>1332</td>\n",
       "      <td>circular_pipe</td>\n",
       "      <td>0.250</td>\n",
       "      <td>24</td>\n",
       "      <td>48</td>\n",
       "    </tr>\n",
       "  </tbody>\n",
       "</table>\n",
       "<p>1003587 rows × 13 columns</p>\n",
       "</div>"
      ],
      "text/plain": [
       "            PH      EC    ORP  TEMPERATURE                date  weekday  \\\n",
       "0        6.900  1304.0 -467.0         28.4 2018-09-05 03:05:00        2   \n",
       "1        6.900  1312.0 -466.0         28.4 2018-09-05 03:10:00        2   \n",
       "2        6.800  1328.0 -466.0         28.3 2018-09-05 03:15:00        2   \n",
       "3        6.800  1336.0 -465.0         28.3 2018-09-05 03:20:00        2   \n",
       "4        6.800  1344.0 -465.0         28.3 2018-09-05 03:25:00        2   \n",
       "...        ...     ...    ...          ...                 ...      ...   \n",
       "1003582  1.544    96.0  359.0         23.9 2020-07-05 02:10:00        6   \n",
       "1003583  1.542    96.0  359.0         23.9 2020-07-05 02:20:00        6   \n",
       "1003584  1.541    96.0  359.0         24.0 2020-07-05 02:30:00        6   \n",
       "1003585  1.546    96.0  359.0         24.0 2020-07-05 02:40:00        6   \n",
       "1003586  1.547    96.0  360.0         23.9 2020-07-05 02:50:00        6   \n",
       "\n",
       "         month  hour  point_id  channel_shape  diameter  water_authority  \\\n",
       "0            9     3      2045  circular_pipe     0.125               24   \n",
       "1            9     3      2045  circular_pipe     0.125               24   \n",
       "2            9     3      2045  circular_pipe     0.125               24   \n",
       "3            9     3      2045  circular_pipe     0.125               24   \n",
       "4            9     3      2045  circular_pipe     0.125               24   \n",
       "...        ...   ...       ...            ...       ...              ...   \n",
       "1003582      7     2      1332  circular_pipe     0.250               24   \n",
       "1003583      7     2      1332  circular_pipe     0.250               24   \n",
       "1003584      7     2      1332  circular_pipe     0.250               24   \n",
       "1003585      7     2      1332  circular_pipe     0.250               24   \n",
       "1003586      7     2      1332  circular_pipe     0.250               24   \n",
       "\n",
       "         sector  \n",
       "0            48  \n",
       "1            48  \n",
       "2            48  \n",
       "3            48  \n",
       "4            48  \n",
       "...         ...  \n",
       "1003582      48  \n",
       "1003583      48  \n",
       "1003584      48  \n",
       "1003585      48  \n",
       "1003586      48  \n",
       "\n",
       "[1003587 rows x 13 columns]"
      ]
     },
     "execution_count": 3,
     "metadata": {},
     "output_type": "execute_result"
    }
   ],
   "source": [
    "df"
   ]
  },
  {
   "cell_type": "code",
   "execution_count": 10,
   "metadata": {},
   "outputs": [
    {
     "data": {
      "text/html": [
       "<div>\n",
       "<style scoped>\n",
       "    .dataframe tbody tr th:only-of-type {\n",
       "        vertical-align: middle;\n",
       "    }\n",
       "\n",
       "    .dataframe tbody tr th {\n",
       "        vertical-align: top;\n",
       "    }\n",
       "\n",
       "    .dataframe thead th {\n",
       "        text-align: right;\n",
       "    }\n",
       "</style>\n",
       "<table border=\"1\" class=\"dataframe\">\n",
       "  <thead>\n",
       "    <tr style=\"text-align: right;\">\n",
       "      <th></th>\n",
       "      <th>PH</th>\n",
       "      <th>EC</th>\n",
       "      <th>ORP</th>\n",
       "      <th>TEMPERATURE</th>\n",
       "    </tr>\n",
       "  </thead>\n",
       "  <tbody>\n",
       "    <tr>\n",
       "      <th>0</th>\n",
       "      <td>6.900</td>\n",
       "      <td>1304.0</td>\n",
       "      <td>-467.0</td>\n",
       "      <td>28.4</td>\n",
       "    </tr>\n",
       "    <tr>\n",
       "      <th>1</th>\n",
       "      <td>6.900</td>\n",
       "      <td>1312.0</td>\n",
       "      <td>-466.0</td>\n",
       "      <td>28.4</td>\n",
       "    </tr>\n",
       "    <tr>\n",
       "      <th>2</th>\n",
       "      <td>6.800</td>\n",
       "      <td>1328.0</td>\n",
       "      <td>-466.0</td>\n",
       "      <td>28.3</td>\n",
       "    </tr>\n",
       "    <tr>\n",
       "      <th>3</th>\n",
       "      <td>6.800</td>\n",
       "      <td>1336.0</td>\n",
       "      <td>-465.0</td>\n",
       "      <td>28.3</td>\n",
       "    </tr>\n",
       "    <tr>\n",
       "      <th>4</th>\n",
       "      <td>6.800</td>\n",
       "      <td>1344.0</td>\n",
       "      <td>-465.0</td>\n",
       "      <td>28.3</td>\n",
       "    </tr>\n",
       "    <tr>\n",
       "      <th>...</th>\n",
       "      <td>...</td>\n",
       "      <td>...</td>\n",
       "      <td>...</td>\n",
       "      <td>...</td>\n",
       "    </tr>\n",
       "    <tr>\n",
       "      <th>1003582</th>\n",
       "      <td>1.544</td>\n",
       "      <td>96.0</td>\n",
       "      <td>359.0</td>\n",
       "      <td>23.9</td>\n",
       "    </tr>\n",
       "    <tr>\n",
       "      <th>1003583</th>\n",
       "      <td>1.542</td>\n",
       "      <td>96.0</td>\n",
       "      <td>359.0</td>\n",
       "      <td>23.9</td>\n",
       "    </tr>\n",
       "    <tr>\n",
       "      <th>1003584</th>\n",
       "      <td>1.541</td>\n",
       "      <td>96.0</td>\n",
       "      <td>359.0</td>\n",
       "      <td>24.0</td>\n",
       "    </tr>\n",
       "    <tr>\n",
       "      <th>1003585</th>\n",
       "      <td>1.546</td>\n",
       "      <td>96.0</td>\n",
       "      <td>359.0</td>\n",
       "      <td>24.0</td>\n",
       "    </tr>\n",
       "    <tr>\n",
       "      <th>1003586</th>\n",
       "      <td>1.547</td>\n",
       "      <td>96.0</td>\n",
       "      <td>360.0</td>\n",
       "      <td>23.9</td>\n",
       "    </tr>\n",
       "  </tbody>\n",
       "</table>\n",
       "<p>1003587 rows × 4 columns</p>\n",
       "</div>"
      ],
      "text/plain": [
       "            PH      EC    ORP  TEMPERATURE\n",
       "0        6.900  1304.0 -467.0         28.4\n",
       "1        6.900  1312.0 -466.0         28.4\n",
       "2        6.800  1328.0 -466.0         28.3\n",
       "3        6.800  1336.0 -465.0         28.3\n",
       "4        6.800  1344.0 -465.0         28.3\n",
       "...        ...     ...    ...          ...\n",
       "1003582  1.544    96.0  359.0         23.9\n",
       "1003583  1.542    96.0  359.0         23.9\n",
       "1003584  1.541    96.0  359.0         24.0\n",
       "1003585  1.546    96.0  359.0         24.0\n",
       "1003586  1.547    96.0  360.0         23.9\n",
       "\n",
       "[1003587 rows x 4 columns]"
      ]
     },
     "execution_count": 10,
     "metadata": {},
     "output_type": "execute_result"
    }
   ],
   "source": [
    "df[['PH', 'EC', 'ORP', 'TEMPERATURE']]"
   ]
  },
  {
   "cell_type": "code",
   "execution_count": 5,
   "metadata": {},
   "outputs": [
    {
     "ename": "NameError",
     "evalue": "name 'all_gpu_devices' is not defined",
     "output_type": "error",
     "traceback": [
      "\u001b[0;31m---------------------------------------------------------------------------\u001b[0m",
      "\u001b[0;31mNameError\u001b[0m                                 Traceback (most recent call last)",
      "\u001b[0;32m<ipython-input-5-1fced6bac253>\u001b[0m in \u001b[0;36m<module>\u001b[0;34m\u001b[0m\n\u001b[0;32m----> 1\u001b[0;31m \u001b[0mmatrix_profile\u001b[0m \u001b[0;34m=\u001b[0m \u001b[0mstumpy\u001b[0m\u001b[0;34m.\u001b[0m\u001b[0mgpu_stump\u001b[0m\u001b[0;34m(\u001b[0m\u001b[0mdf\u001b[0m\u001b[0;34m[\u001b[0m\u001b[0;34m'PH'\u001b[0m\u001b[0;34m]\u001b[0m\u001b[0;34m,\u001b[0m \u001b[0mm\u001b[0m\u001b[0;34m=\u001b[0m\u001b[0;36m36\u001b[0m\u001b[0;34m,\u001b[0m \u001b[0mdevice_id\u001b[0m\u001b[0;34m=\u001b[0m\u001b[0mall_gpu_devices\u001b[0m\u001b[0;34m)\u001b[0m\u001b[0;34m\u001b[0m\u001b[0;34m\u001b[0m\u001b[0m\n\u001b[0m",
      "\u001b[0;31mNameError\u001b[0m: name 'all_gpu_devices' is not defined"
     ]
    }
   ],
   "source": [
    "matrix_profile = stumpy.gpu_stump(df['PH'], m=36, device_id=all_gpu_devices)"
   ]
  },
  {
   "cell_type": "code",
   "execution_count": 6,
   "metadata": {},
   "outputs": [],
   "source": [
    "from sklearn.ensemble import IsolationForest"
   ]
  },
  {
   "cell_type": "code",
   "execution_count": 7,
   "metadata": {},
   "outputs": [],
   "source": [
    "clf = IsolationForest()"
   ]
  },
  {
   "cell_type": "code",
   "execution_count": 18,
   "metadata": {},
   "outputs": [],
   "source": [
    "df2 = df[['date', 'PH', 'EC', 'ORP', 'TEMPERATURE']].copy()"
   ]
  },
  {
   "cell_type": "code",
   "execution_count": 20,
   "metadata": {},
   "outputs": [],
   "source": [
    "df2.dropna(inplace=True)"
   ]
  },
  {
   "cell_type": "code",
   "execution_count": 21,
   "metadata": {},
   "outputs": [
    {
     "name": "stdout",
     "output_type": "stream",
     "text": [
      "<class 'pandas.core.frame.DataFrame'>\n",
      "Int64Index: 955972 entries, 0 to 1003586\n",
      "Data columns (total 5 columns):\n",
      " #   Column       Non-Null Count   Dtype         \n",
      "---  ------       --------------   -----         \n",
      " 0   date         955972 non-null  datetime64[ns]\n",
      " 1   PH           955972 non-null  float64       \n",
      " 2   EC           955972 non-null  float64       \n",
      " 3   ORP          955972 non-null  float64       \n",
      " 4   TEMPERATURE  955972 non-null  float64       \n",
      "dtypes: datetime64[ns](1), float64(4)\n",
      "memory usage: 43.8 MB\n"
     ]
    }
   ],
   "source": [
    "df2.info()"
   ]
  },
  {
   "cell_type": "code",
   "execution_count": 31,
   "metadata": {},
   "outputs": [],
   "source": [
    "y_pred = clf.fit_predict(df2[['PH', 'EC', 'ORP', 'TEMPERATURE']])"
   ]
  },
  {
   "cell_type": "code",
   "execution_count": 39,
   "metadata": {},
   "outputs": [],
   "source": [
    "y_scores = clf.decision_function(df2[['PH', 'EC', 'ORP', 'TEMPERATURE']])"
   ]
  },
  {
   "cell_type": "code",
   "execution_count": 40,
   "metadata": {},
   "outputs": [
    {
     "data": {
      "text/plain": [
       "numpy.ndarray"
      ]
     },
     "execution_count": 40,
     "metadata": {},
     "output_type": "execute_result"
    }
   ],
   "source": [
    "type(y_scores)"
   ]
  },
  {
   "cell_type": "code",
   "execution_count": 41,
   "metadata": {},
   "outputs": [
    {
     "data": {
      "text/plain": [
       "array([ 0.06306301,  0.06274072,  0.06381747, ..., -0.17904908,\n",
       "       -0.17904908, -0.17904908])"
      ]
     },
     "execution_count": 41,
     "metadata": {},
     "output_type": "execute_result"
    }
   ],
   "source": [
    "y_scores"
   ]
  },
  {
   "cell_type": "code",
   "execution_count": 50,
   "metadata": {},
   "outputs": [
    {
     "data": {
      "text/plain": [
       "73"
      ]
     },
     "execution_count": 50,
     "metadata": {},
     "output_type": "execute_result"
    }
   ],
   "source": [
    "len(np.argwhere(y_scores<-0.25))"
   ]
  },
  {
   "cell_type": "code",
   "execution_count": 62,
   "metadata": {
    "scrolled": true
   },
   "outputs": [
    {
     "data": {
      "text/plain": [
       "array([[471134],\n",
       "       [471142],\n",
       "       [471144],\n",
       "       [471145],\n",
       "       [471146],\n",
       "       [471147],\n",
       "       [471168],\n",
       "       [592556],\n",
       "       [592557],\n",
       "       [592648],\n",
       "       [592649],\n",
       "       [592650],\n",
       "       [592654],\n",
       "       [592655],\n",
       "       [592656],\n",
       "       [592657],\n",
       "       [592658],\n",
       "       [592659],\n",
       "       [592661],\n",
       "       [592662],\n",
       "       [592663],\n",
       "       [592664],\n",
       "       [592665],\n",
       "       [592666],\n",
       "       [592667],\n",
       "       [592668],\n",
       "       [592669],\n",
       "       [592670],\n",
       "       [592671],\n",
       "       [592672],\n",
       "       [592673],\n",
       "       [592674],\n",
       "       [592675],\n",
       "       [592676],\n",
       "       [592677],\n",
       "       [592678],\n",
       "       [592679],\n",
       "       [592680],\n",
       "       [592681],\n",
       "       [592682],\n",
       "       [592683],\n",
       "       [592684],\n",
       "       [592685],\n",
       "       [592686],\n",
       "       [592687],\n",
       "       [592688],\n",
       "       [592689],\n",
       "       [592690],\n",
       "       [592691],\n",
       "       [592693],\n",
       "       [592694],\n",
       "       [592695],\n",
       "       [592696],\n",
       "       [592697],\n",
       "       [592698],\n",
       "       [592699],\n",
       "       [592700],\n",
       "       [592701],\n",
       "       [593128],\n",
       "       [593129],\n",
       "       [593130],\n",
       "       [593131],\n",
       "       [593132],\n",
       "       [595370],\n",
       "       [595371],\n",
       "       [595372],\n",
       "       [595373],\n",
       "       [595374],\n",
       "       [595375],\n",
       "       [595376],\n",
       "       [595377],\n",
       "       [595378],\n",
       "       [596098]])"
      ]
     },
     "execution_count": 62,
     "metadata": {},
     "output_type": "execute_result"
    }
   ],
   "source": [
    "np.argwhere(y_scores<-0.25)"
   ]
  },
  {
   "cell_type": "code",
   "execution_count": 79,
   "metadata": {},
   "outputs": [
    {
     "data": {
      "image/png": "[encoded data removed]",
      "text/plain": [
       "<Figure size 432x288 with 1 Axes>"
      ]
     },
     "metadata": {
      "needs_background": "light"
     },
     "output_type": "display_data"
    },
    {
     "data": {
      "image/png": "[encoded data removed]",
      "text/plain": [
       "<Figure size 432x288 with 1 Axes>"
      ]
     },
     "metadata": {
      "needs_background": "light"
     },
     "output_type": "display_data"
    },
    {
     "data": {
      "image/png": "[encoded data removed]",
      "text/plain": [
       "<Figure size 432x288 with 1 Axes>"
      ]
     },
     "metadata": {
      "needs_background": "light"
     },
     "output_type": "display_data"
    },
    {
     "data": {
      "image/png": "[encoded data removed]",
      "text/plain": [
       "<Figure size 432x288 with 1 Axes>"
      ]
     },
     "metadata": {
      "needs_background": "light"
     },
     "output_type": "display_data"
    }
   ],
   "source": [
    "for col in ['PH', 'EC', 'ORP', 'TEMPERATURE']:\n",
    "    df2[[f'{col}']].iloc[471134:471168].plot()"
   ]
  },
  {
   "cell_type": "code",
   "execution_count": 77,
   "metadata": {},
   "outputs": [
    {
     "data": {
      "text/plain": [
       "<matplotlib.axes._subplots.AxesSubplot at 0x7fc1c6a9d630>"
      ]
     },
     "execution_count": 77,
     "metadata": {},
     "output_type": "execute_result"
    },
    {
     "data": {
      "image/png": "[encoded data removed]",
      "text/plain": [
       "<Figure size 432x288 with 1 Axes>"
      ]
     },
     "metadata": {
      "needs_background": "light"
     },
     "output_type": "display_data"
    }
   ],
   "source": [
    "df2[['PH', 'EC', 'ORP', 'TEMPERATURE']].iloc[471134:471168].plot()"
   ]
  },
  {
   "cell_type": "code",
   "execution_count": 36,
   "metadata": {},
   "outputs": [
    {
     "data": {
      "text/plain": [
       "(array([-1,  1]), array([ 97151, 858821]))"
      ]
     },
     "execution_count": 36,
     "metadata": {},
     "output_type": "execute_result"
    }
   ],
   "source": [
    "np.unique(y_pred, return_counts=True)"
   ]
  }
 ],
 "metadata": {
  "kernelspec": {
   "display_name": "Python 3",
   "language": "python",
   "name": "python3"
  },
  "language_info": {
   "codemirror_mode": {
    "name": "ipython",
    "version": 3
   },
   "file_extension": ".py",
   "mimetype": "text/x-python",
   "name": "python",
   "nbconvert_exporter": "python",
   "pygments_lexer": "ipython3",
   "version": "3.6.10"
  },
  "toc": {
   "base_numbering": 1,
   "nav_menu": {},
   "number_sections": true,
   "sideBar": true,
   "skip_h1_title": false,
   "title_cell": "Table of Contents",
   "title_sidebar": "Contents",
   "toc_cell": false,
   "toc_position": {},
   "toc_section_display": true,
   "toc_window_display": false
  }
 },
 "nbformat": 4,
 "nbformat_minor": 4
}
